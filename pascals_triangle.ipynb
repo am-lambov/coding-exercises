{
 "cells": [
  {
   "cell_type": "markdown",
   "metadata": {},
   "source": [
    "Here's a script that prints the first __n__ rows of Pascal's Triangle.\n",
    "\n",
    "More info about the Pascal's Triangle can be found here -> [LINK](https://en.wikipedia.org/wiki/Pascal%27s_triangle)"
   ]
  },
  {
   "cell_type": "code",
   "execution_count": 46,
   "metadata": {},
   "outputs": [
    {
     "name": "stdout",
     "output_type": "stream",
     "text": [
      "                         [1]                         \n",
      "                        [1, 1]                       \n",
      "                      [1, 2, 1]                      \n",
      "                     [1, 3, 3, 1]                    \n",
      "                   [1, 4, 6, 4, 1]                   \n",
      "                 [1, 5, 10, 10, 5, 1]                \n",
      "               [1, 6, 15, 20, 15, 6, 1]              \n",
      "             [1, 7, 21, 35, 35, 21, 7, 1]            \n",
      "           [1, 8, 28, 56, 70, 56, 28, 8, 1]          \n",
      "        [1, 9, 36, 84, 126, 126, 84, 36, 9, 1]       \n",
      "   [1, 10, 45, 120, 210, 252, 210, 120, 45, 10, 1]   \n"
     ]
    }
   ],
   "source": [
    "rows = {0: [0, 1, 0]}\n",
    "n = 10\n",
    "\n",
    "\n",
    "def calculate_next_row(row: list) -> list:\n",
    "    next_row = [0]\n",
    "    for i, _ in enumerate(row):\n",
    "        if i == len(row) - 1:\n",
    "            next_row.append(0)\n",
    "            continue\n",
    "        next_row.append(row[i] + row[i + 1])\n",
    "\n",
    "    return next_row\n",
    "\n",
    "\n",
    "def calculate_next_n_rows(n: int):\n",
    "    for i in range(0, n):\n",
    "        rows[i + 1] = calculate_next_row(rows[i])\n",
    "\n",
    "\n",
    "def print_triangle():\n",
    "    max_len = len(str(rows[n]))\n",
    "    for row in rows.values():\n",
    "        print(str(row[1 : len(row) - 1]).center(max_len))\n",
    "\n",
    "\n",
    "calculate_next_n_rows(n)\n",
    "print_triangle()"
   ]
  }
 ],
 "metadata": {
  "kernelspec": {
   "display_name": ".venv",
   "language": "python",
   "name": "python3"
  },
  "language_info": {
   "codemirror_mode": {
    "name": "ipython",
    "version": 3
   },
   "file_extension": ".py",
   "mimetype": "text/x-python",
   "name": "python",
   "nbconvert_exporter": "python",
   "pygments_lexer": "ipython3",
   "version": "3.11.5"
  }
 },
 "nbformat": 4,
 "nbformat_minor": 2
}
