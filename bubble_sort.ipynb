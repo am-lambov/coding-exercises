{
 "cells": [
  {
   "cell_type": "markdown",
   "metadata": {},
   "source": [
    "Bubble sort"
   ]
  },
  {
   "cell_type": "code",
   "execution_count": 113,
   "metadata": {},
   "outputs": [
    {
     "name": "stdout",
     "output_type": "stream",
     "text": [
      "Original array:\n",
      "[981, 894, 61, 506, 209, 40, 162, 491, 621, 869]\n",
      "After 24 swaps:\n",
      "[40, 61, 162, 209, 491, 506, 621, 869, 894, 981]\n"
     ]
    }
   ],
   "source": [
    "import copy\n",
    "import random\n",
    "\n",
    "\n",
    "class BubbleSort:\n",
    "    def __init__(self):\n",
    "        self.array = self.create_random_array()\n",
    "        self.temp_array = copy.deepcopy(self.array)\n",
    "        self.swaps_counter = 0\n",
    "        self.swaps = True\n",
    "\n",
    "    def swap(self, i: int):\n",
    "        self.temp_array[i], self.temp_array[i + 1] = self.array[i + 1], self.array[i]\n",
    "        self.array = self.temp_array\n",
    "\n",
    "    def sort(self):\n",
    "        while self.swaps:\n",
    "            self.swaps = False\n",
    "            for i, _ in enumerate(self.array[0 : len(self.array) - 1]):\n",
    "                if self.array[i] > self.array[i + 1]:\n",
    "                    self.swaps = True\n",
    "                    self.swap(i)\n",
    "                    self.swaps_counter += 1\n",
    "\n",
    "    def create_random_array(self):\n",
    "        array = []\n",
    "        for _ in range(10):\n",
    "            array.append(random.randint(1, 1000))\n",
    "\n",
    "        return array\n",
    "\n",
    "\n",
    "bs = BubbleSort()\n",
    "\n",
    "print(f\"Original array:\\n{bs.array}\")\n",
    "bs.sort()\n",
    "print(f\"After {bs.swaps_counter} swaps:\\n{bs.array}\")"
   ]
  }
 ],
 "metadata": {
  "kernelspec": {
   "display_name": ".venv",
   "language": "python",
   "name": "python3"
  },
  "language_info": {
   "codemirror_mode": {
    "name": "ipython",
    "version": 3
   },
   "file_extension": ".py",
   "mimetype": "text/x-python",
   "name": "python",
   "nbconvert_exporter": "python",
   "pygments_lexer": "ipython3",
   "version": "3.11.5"
  }
 },
 "nbformat": 4,
 "nbformat_minor": 2
}
