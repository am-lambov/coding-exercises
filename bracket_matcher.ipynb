{
 "cells": [
  {
   "cell_type": "markdown",
   "metadata": {},
   "source": [
    "Balanced Brackets - A function that checks if brackets in a string are balanced.\n",
    "\n",
    "Strategy:\n",
    "- Go through each character in the string\n",
    "- Use a counter that increases when '(' is encountered and decreases when ')' is encountered\n",
    "- At the end of the execution the counter is 0 if there are equal number of '(' and ')' characters\n",
    "- If the counter ever goes below 0, it means we have encountered a ')' that doesn't close any '(', so we return False"
   ]
  },
  {
   "cell_type": "code",
   "execution_count": 6,
   "metadata": {},
   "outputs": [],
   "source": [
    "def has_balanced_brackets(string: str) -> bool:\n",
    "    counter = 0\n",
    "    for char in string:\n",
    "        if char == \"(\":\n",
    "            counter += 1\n",
    "        if char == \")\":\n",
    "            counter -= 1\n",
    "            if counter < 0:\n",
    "                return False\n",
    "\n",
    "    return counter == 0"
   ]
  },
  {
   "cell_type": "code",
   "execution_count": 7,
   "metadata": {},
   "outputs": [
    {
     "name": "stdout",
     "output_type": "stream",
     "text": [
      "() has been evaluated correctly\n",
      ")( has been evaluated correctly\n",
      "()() has been evaluated correctly\n",
      "(() has been evaluated correctly\n",
      "(3x + 1) * 2(3 + y) has been evaluated correctly\n"
     ]
    }
   ],
   "source": [
    "tests = {\n",
    "    \"()\": True,\n",
    "    \")(\": False,\n",
    "    \"()()\": True,\n",
    "    \"(()\": False,\n",
    "    \"(3x + 1) * 2(3 + y)\": True\n",
    "}\n",
    "\n",
    "for text, result in tests.items():\n",
    "    if has_balanced_brackets(text) == result:\n",
    "        print(f\"{text} has been evaluated correctly\")\n",
    "    else:\n",
    "        print(f\"ERROR: {text} was evaluated incorrectly\")"
   ]
  }
 ],
 "metadata": {
  "kernelspec": {
   "display_name": ".venv",
   "language": "python",
   "name": "python3"
  },
  "language_info": {
   "codemirror_mode": {
    "name": "ipython",
    "version": 3
   },
   "file_extension": ".py",
   "mimetype": "text/x-python",
   "name": "python",
   "nbconvert_exporter": "python",
   "pygments_lexer": "ipython3",
   "version": "3.11.5"
  }
 },
 "nbformat": 4,
 "nbformat_minor": 2
}
